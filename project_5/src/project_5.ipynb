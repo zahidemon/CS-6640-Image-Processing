{
 "cells": [
  {
   "cell_type": "code",
   "execution_count": null,
   "metadata": {},
   "outputs": [],
   "source": [
    "from matplotlib import pyplot as plt\n",
    "import numpy as np\n",
    "import cv2\n",
    "from skimage.io import imread\n",
    "from skimage.color import rgb2gray\n",
    "from skimage.morphology import (erosion, dilation, opening, area_closing)\n",
    "from skimage.transform import resize\n",
    "from skimage.measure import label, regionprops, regionprops_table\n",
    "import pandas as pd"
   ]
  },
  {
   "cell_type": "markdown",
   "metadata": {},
   "source": [
    "Image Read and Denoise"
   ]
  },
  {
   "cell_type": "code",
   "execution_count": null,
   "metadata": {},
   "outputs": [],
   "source": [
    "def read_image(path):\n",
    "    image = imread(path)\n",
    "    if len(image.shape) > 2:\n",
    "        return rgb2gray(image)\n",
    "    return image\n",
    "\n",
    "def bilateral_filter(image, diameter=15, sigma_color=75, sigma_space=75):\n",
    "    print(image.max())\n",
    "    if image.max() != 255:\n",
    "        image = image * 255\n",
    "        image = image.astype('uint8')\n",
    "        return cv2.bilateralFilter(image, diameter, sigma_color, sigma_space) / 255\n",
    "    return cv2.bilateralFilter(image, diameter, sigma_color, sigma_space)\n",
    "\n",
    "def median_filter(image, kernel_size=3):\n",
    "    if image.max() != 255:\n",
    "        image = image * 255\n",
    "        image = image.astype('uint8')\n",
    "        return cv2.medianBlur(image, kernel_size) / 255\n",
    "    return cv2.medianBlur(image, kernel_size)\n",
    "\n",
    "\n",
    "def non_local_mean_filter(image, h=3):\n",
    "    if image.max() != 255:\n",
    "        image = image * 255\n",
    "        image = image.astype('uint8')\n",
    "        return cv2.fastNlMeansDenoising(image, h=h) / 255\n",
    "    return cv2.fastNlMeansDenoising(image, h=h)"
   ]
  },
  {
   "cell_type": "markdown",
   "metadata": {},
   "source": [
    "## Image thresholding and connected components"
   ]
  },
  {
   "cell_type": "code",
   "execution_count": null,
   "metadata": {},
   "outputs": [],
   "source": [
    "image_path = \"../Data/test_images/noisy_three_sentences.jpg\"\n",
    "image = read_image(image_path)\n",
    "plt.figure(figsize=(15,15))\n",
    "plt.imshow(image,cmap=\"gray\")\n",
    "plt.show()\n",
    "plt.clf()\n"
   ]
  },
  {
   "cell_type": "code",
   "execution_count": null,
   "metadata": {},
   "outputs": [],
   "source": [
    "# plt.imshow(filtered_image_3, cmap=\"gray\")\n",
    "# plt.imshow(filtered_image_2, cmap=\"gray\")"
   ]
  },
  {
   "cell_type": "code",
   "execution_count": null,
   "metadata": {},
   "outputs": [],
   "source": [
    "filtered_image = bilateral_filter(image)\n",
    "plt.figure(figsize=(15,15))\n",
    "plt.imshow(filtered_image, cmap=\"gray\")\n",
    "plt.show()\n",
    "plt.clf()"
   ]
  },
  {
   "cell_type": "code",
   "execution_count": null,
   "metadata": {},
   "outputs": [],
   "source": [
    "binarized_image = filtered_image < 0.75\n",
    "# binarized_image = non_local_mean_filter(binarized_image.copy())\n",
    "plt.figure(figsize=(15,15))\n",
    "plt.imshow(binarized_image, cmap=\"gray\")\n",
    "plt.show()\n",
    "plt.clf()"
   ]
  },
  {
   "cell_type": "markdown",
   "metadata": {},
   "source": [
    "## Erosion, Dilation"
   ]
  },
  {
   "cell_type": "code",
   "execution_count": null,
   "metadata": {},
   "outputs": [],
   "source": [
    "square = np.array([[1,1,1],\n",
    "                   [1,1,1],\n",
    "                   [1,1,1]])\n",
    "                   \n",
    "def multi_dil(im, num, element=square):\n",
    "    for i in range(num):\n",
    "        im = dilation(im, element)\n",
    "    return im\n",
    "def multi_ero(im, num, element=square):\n",
    "    for i in range(num):\n",
    "        im = erosion(im, element)\n",
    "    return im"
   ]
  },
  {
   "cell_type": "code",
   "execution_count": null,
   "metadata": {},
   "outputs": [],
   "source": [
    "def erosion_dilation(image, plot=False):\n",
    "    multi_dilated = multi_dil(image, 7)\n",
    "    area_closed = area_closing(multi_dilated, 5)\n",
    "    multi_eroded = multi_ero(area_closed, 11)\n",
    "    opened_image = opening(multi_eroded)\n",
    "    if plot:\n",
    "        plt.imshow(opened_image, cmap=\"gray\")\n",
    "    return opened_image"
   ]
  },
  {
   "cell_type": "markdown",
   "metadata": {},
   "source": [
    "## Otsu"
   ]
  },
  {
   "cell_type": "code",
   "execution_count": null,
   "metadata": {},
   "outputs": [],
   "source": [
    "from skimage.filters import threshold_otsu\n",
    "from skimage.segmentation import clear_border\n",
    "from skimage.morphology import closing, square\n",
    "\n",
    "thresh = threshold_otsu(filtered_image)\n",
    "bw = closing(image > thresh, square(3))\n",
    "cleared = clear_border(bw)\n",
    "\n",
    "# label image regions\n",
    "label_image = label(cleared)\n",
    "regions = regionprops(label_image)\n",
    "\n",
    "plt.figure(figsize=(15,15))\n",
    "plt.imshow(label_image)\n",
    "plt.show()\n",
    "plt.clf()"
   ]
  },
  {
   "cell_type": "markdown",
   "metadata": {},
   "source": [
    "## Connected components"
   ]
  },
  {
   "cell_type": "code",
   "execution_count": null,
   "metadata": {},
   "outputs": [],
   "source": [
    "from skimage.color import label2rgb\n",
    "\n",
    "label_im = label(binarized_image)\n",
    "image_label_overlay = label2rgb(label_im, image=binarized_image, bg_label=0)\n",
    "regions = regionprops(label_im)\n",
    "print(len(regions))\n",
    "plt.figure(figsize=(15,15))\n",
    "plt.imshow(image_label_overlay)\n",
    "plt.show()\n",
    "plt.clf()"
   ]
  },
  {
   "cell_type": "code",
   "execution_count": null,
   "metadata": {},
   "outputs": [],
   "source": [
    "# for lbl in np.unique(label_im):\n",
    "#      # 0 would always be background\n",
    "#      # print(lbl)\n",
    "#      plt.imshow(label_im == lbl)\n",
    "#      plt.show()"
   ]
  },
  {
   "cell_type": "code",
   "execution_count": null,
   "metadata": {},
   "outputs": [],
   "source": [
    "properties = ['area','convex_area','bbox_area', 'extent',  \n",
    "              'mean_intensity', 'solidity', 'eccentricity', \n",
    "              'orientation', 'centroid', 'bbox']\n",
    "pd.DataFrame(regionprops_table(label_im, filtered_image, \n",
    "             properties=properties))"
   ]
  },
  {
   "cell_type": "code",
   "execution_count": null,
   "metadata": {},
   "outputs": [],
   "source": [
    "masks = []\n",
    "bbox = []\n",
    "list_of_index = []\n",
    "remove_nums = []\n",
    "for num, x in enumerate(regions):\n",
    "    area = x.area\n",
    "    convex_area = x.convex_area\n",
    "    \n",
    "    if (convex_area/area > 0.95)  and area>200:\n",
    "        print(num, area, convex_area, x.bbox, x.centroid)\n",
    "        masks.append(regions[num].convex_image)\n",
    "        bbox.append(regions[num].bbox)   \n",
    "        list_of_index.append(num)\n",
    "    else:\n",
    "        # print(num)\n",
    "        remove_nums.append(num)\n",
    "for i in sorted(remove_nums, reverse=True):\n",
    "    del regions[i]\n",
    "count = len(masks)\n",
    "print(count, len(regions))"
   ]
  },
  {
   "cell_type": "code",
   "execution_count": null,
   "metadata": {},
   "outputs": [],
   "source": [
    "def find_space_indexes(regions):\n",
    "    diff_xs = []\n",
    "    for index, _ in enumerate(regions):\n",
    "        if index != 0:\n",
    "            diff_xs.append((regions[index].bbox[1] - regions[index-1].bbox[3]))\n",
    "        else:\n",
    "            diff_xs.append(-1)\n",
    "    max_diff = sorted(diff_xs)[int(len(diff_xs)*0.90)]\n",
    "    indexes= [1 if diff_xs[index] >= max_diff else 0 for index, _ in enumerate(regions)]\n",
    "    print(\"index values\", diff_xs, indexes, max_diff, len(diff_xs), len(indexes))\n",
    "    return indexes"
   ]
  },
  {
   "cell_type": "code",
   "execution_count": null,
   "metadata": {},
   "outputs": [],
   "source": [
    "def re_arrange_letters(bbox, regions, limit=25):\n",
    "    bbox = sorted(bbox, key=lambda x: x[0])\n",
    "    regions = sorted(regions, key=lambda r: r.bbox[0])\n",
    "    x_mins = list([str(box[0]) for box in bbox])\n",
    "    print(x_mins)\n",
    "    for x_min in x_mins:\n",
    "        for i in range(1,limit):\n",
    "            if str(int(x_min)+i) in x_mins:\n",
    "                # print(str(int(x_min)+i), x_min)\n",
    "                for k in range(len(x_mins)):\n",
    "                    if x_mins[k] == str(int(x_min)+i):\n",
    "                        x_mins[k] = x_min\n",
    "                # x_mins = list(map(lambda x: x.replace(str(int(x_min)+i), x_min), x_mins))\n",
    "    print(x_mins)\n",
    "    x_mins = [int(x_min) for x_min in x_mins]\n",
    "    for x_min, box in zip(x_mins, bbox):\n",
    "        box = (x_min, box[1], box[2], box[3])\n",
    "    x_mins.append(max(x_mins) + 1)\n",
    "    unique_x_mins = sorted(list(set(x_mins)))\n",
    "    print(\"Unique:\", unique_x_mins)\n",
    "    line_bbox, line_regions = [], []\n",
    "    for index, unique_x_min in enumerate(unique_x_mins):\n",
    "        if index==0:\n",
    "            start = x_mins.index(unique_x_min)\n",
    "            continue\n",
    "        end = x_mins.index(unique_x_min)\n",
    "        print(x_mins[start:end])\n",
    "        line_bbox.append(bbox[start:end])\n",
    "        line_regions.append(regions[start:end])\n",
    "        # print(regions[start:end], bbox[start:end])\n",
    "        start = end\n",
    "    # print(line_regions)\n",
    "    new_bbox, new_masks, new_regions, space_indexes, line_end_indexes = [], [], [], [], []\n",
    "    for line_box, line_region in zip(line_bbox, line_regions):\n",
    "        # print(\"Before\")\n",
    "        # [print(r.bbox) for r in line_region]\n",
    "        line_region = sorted(line_region, key=lambda r: r.bbox[1])\n",
    "        line_space_indexes = find_space_indexes(regions=line_region)\n",
    "        space_indexes.extend(line_space_indexes)\n",
    "        if len(line_end_indexes):\n",
    "            line_end_indexes.append(line_end_indexes[-1] + len(line_space_indexes))\n",
    "        else:\n",
    "            line_end_indexes.append(len(line_space_indexes))\n",
    "        # print(\"After\")\n",
    "        # [print(r.bbox) for r in line_region]\n",
    "        line_box = sorted(line_box, key=lambda x: x[1])\n",
    "        # print(line_box)\n",
    "        new_mask = [region.convex_image for region in line_region]\n",
    "        new_masks.extend(new_mask)\n",
    "        new_bbox.extend(line_box)\n",
    "        new_regions.extend(line_region)\n",
    "    return new_bbox, new_masks, new_regions, space_indexes, line_end_indexes\n"
   ]
  },
  {
   "cell_type": "code",
   "execution_count": null,
   "metadata": {},
   "outputs": [],
   "source": [
    "fig, ax = plt.subplots(15, int(count/15), figsize=(60,60))\n",
    "bounded_images = []\n",
    "bbox, masks, regions, space_indexes, line_end_indexes = re_arrange_letters(bbox, regions)\n",
    "print(len(masks), line_end_indexes)\n",
    "for index, (axis, box, mask) in enumerate(zip(ax.flatten(), bbox, masks)):\n",
    "    bounded_image  =  binarized_image[box[0]:box[2], box[1]:box[3]] * mask\n",
    "    bounded_image = np.pad(bounded_image, pad_width=10)\n",
    "    bounded_image = bilateral_filter(bounded_image, 1)\n",
    "    bounded_image = resize(bounded_image, (28, 28))\n",
    "    # plt.imshow(bounded_image)\n",
    "    # plt.savefig(f\"../Data/test_images/msg_from_annie_{index}.png\")\n",
    "    bounded_images.append(bounded_image)\n",
    "    axis.imshow(bounded_image, cmap=\"gray\")\n",
    "fig.tight_layout()\n"
   ]
  },
  {
   "cell_type": "markdown",
   "metadata": {},
   "source": [
    "## Model Predict"
   ]
  },
  {
   "cell_type": "code",
   "execution_count": null,
   "metadata": {},
   "outputs": [],
   "source": [
    "from predict import CharacterPredictor\n",
    "\n",
    "predictor = CharacterPredictor(model_path=\"../Data/model.pth\")\n",
    "output_filename = image_path.replace(\".jpg\", \"_predicted.txt\")\n",
    "output_filename_with_spaces = image_path.replace(\".jpg\", \"_predicted_with_spaces.txt\")\n",
    "output_file = open(output_filename, \"w\")\n",
    "output_file_with_spaces = open(output_filename_with_spaces, \"w\")\n",
    "for index, bounded_image in enumerate(bounded_images):\n",
    "    prediction = predictor.predict(bounded_image)\n",
    "    print(prediction)\n",
    "    output_file.write(prediction)\n",
    "    output_file_with_spaces.write(prediction)\n",
    "    if index+1 < len(bounded_images):\n",
    "        if space_indexes[index+1] == 1 or index+1 in line_end_indexes:\n",
    "            output_file_with_spaces.write(\" \")\n",
    "output_file.close()\n",
    "output_file_with_spaces.close()"
   ]
  },
  {
   "cell_type": "code",
   "execution_count": null,
   "metadata": {},
   "outputs": [],
   "source": [
    "def compare_with_gt(gt_filename, predicted_filename):\n",
    "    print(gt_filename)\n",
    "    gt_file = open(gt_filename, \"r\")\n",
    "    predicted_file = open(predicted_filename, \"r\")\n",
    "    gt_line = gt_file.readline().strip()\n",
    "    print(gt_line)\n",
    "    predicted_line = predicted_file.readline().strip()\n",
    "    count = 0\n",
    "    for gt, predicted in zip(gt_line, predicted_line):\n",
    "        print(gt, predicted)\n",
    "        if predicted == gt.upper():\n",
    "            count+=1\n",
    "    gt_file.close()\n",
    "    predicted_file.close()\n",
    "    return count/len(gt_line)"
   ]
  },
  {
   "cell_type": "code",
   "execution_count": null,
   "metadata": {},
   "outputs": [],
   "source": [
    "compare_with_gt(gt_filename=\"/home/sci/zahid.aziz/Desktop/Projects/CS-6640-Image-Processing/project_5/Data/test_images/three_sentences_gt.txt\", \n",
    "                predicted_filename= output_filename)"
   ]
  },
  {
   "cell_type": "code",
   "execution_count": null,
   "metadata": {},
   "outputs": [],
   "source": []
  }
 ],
 "metadata": {
  "kernelspec": {
   "display_name": "Python 3.9.13 ('image2ssm')",
   "language": "python",
   "name": "python3"
  },
  "language_info": {
   "codemirror_mode": {
    "name": "ipython",
    "version": 3
   },
   "file_extension": ".py",
   "mimetype": "text/x-python",
   "name": "python",
   "nbconvert_exporter": "python",
   "pygments_lexer": "ipython3",
   "version": "3.9.13"
  },
  "orig_nbformat": 4,
  "vscode": {
   "interpreter": {
    "hash": "1541d959913b4172eb2704a4b8cc3ae6230d6a2362c6a449275be0ca5309a8fb"
   }
  }
 },
 "nbformat": 4,
 "nbformat_minor": 2
}
